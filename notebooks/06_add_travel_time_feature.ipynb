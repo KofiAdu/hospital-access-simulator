{
 "cells": [
  {
   "cell_type": "code",
   "execution_count": 5,
   "id": "4db6ba29-7bce-4583-bd37-c4df08fcb06a",
   "metadata": {},
   "outputs": [],
   "source": [
    "import osmnx as ox\n",
    "import geopandas as gpd\n",
    "import networkx as nx\n",
    "from shapely.geometry import Point\n",
    "from tqdm import tqdm"
   ]
  },
  {
   "cell_type": "code",
   "execution_count": 81,
   "id": "f150eb93-c2f0-4f94-87d5-e0631fef4dc0",
   "metadata": {},
   "outputs": [
    {
     "name": "stdout",
     "output_type": "stream",
     "text": [
      "MultiDiGraph with 9801 nodes and 21209 edges\n"
     ]
    }
   ],
   "source": [
    "#load road network for helsinki for driving\n",
    "G = ox.graph_from_place(\"Helsinki, Finland\", network_type='drive')\n",
    "\n",
    "#simplify graph by removing duplicates\n",
    "#graph_to_gdfs: Convert a MultiGraph or MultiDiGraph to node and/or edge GeoDataFrames.\n",
    "#docs chnaged, no need to use graph_to_gdfs() if you use graph_from_place\n",
    "#G = ox.graph_to_gdfs(G)\n",
    "\n",
    "#print(type(G))          # Should be networkx.MultiDiGraph\n",
    "print(G)                # Or check if it's a tuple"
   ]
  },
  {
   "cell_type": "code",
   "execution_count": 85,
   "id": "8a84c7c7-bce9-42b0-a84d-9bc927cd191d",
   "metadata": {},
   "outputs": [
    {
     "name": "stdout",
     "output_type": "stream",
     "text": [
      "EPSG:3857\n"
     ]
    }
   ],
   "source": [
    "#load hexes with population and centroid\n",
    "hex_grid = gpd.read_parquet(\"../data/processed/hex_with_population.parquet\")\n",
    "hex_grid = hex_grid.to_crs(epsg=3857)  #match OSMnx graph CRS\n",
    "print(hex_grid.crs)"
   ]
  },
  {
   "cell_type": "code",
   "execution_count": 87,
   "id": "0f84f20d-79c7-47e1-94bd-8343a7c5751e",
   "metadata": {},
   "outputs": [],
   "source": [
    "#compute hex centroid in lat/lon if not ready\n",
    "hex_grid['center'] = hex_grid.geometry.centroid"
   ]
  },
  {
   "cell_type": "code",
   "execution_count": null,
   "id": "cf36b5d0-50f6-4928-97e1-d8be12741d15",
   "metadata": {},
   "outputs": [],
   "source": [
    "hospitals = ox.features_from_place(\"Helsinki, Finland\", tags={\"amenity\": \"hospital\"})\n",
    "hospitals = hospitals.to_crs(epsg=3857)\n",
    "hospitals = hospitals[hospitals.geometry.type == \"Point\"]"
   ]
  },
  {
   "cell_type": "code",
   "execution_count": null,
   "id": "bddf92f3-96b7-4668-bc60-ba0982df91be",
   "metadata": {},
   "outputs": [],
   "source": [
    "hospital_nodes = hospitals.geometry.apply(lambda p: ox.distance.nearest_nodes(G, p.x, p.y)).tolist()"
   ]
  },
  {
   "cell_type": "code",
   "execution_count": null,
   "id": "c64839d5-c16a-429c-ab76-9f4970fa850c",
   "metadata": {},
   "outputs": [],
   "source": [
    "\n",
    "#function to find shortest travel time\n",
    "def shortest_travel_time(point):\n",
    "    try:\n",
    "        orig_node = ox.distance.nearest_nodes(G, point.x, point.y)\n",
    "        times = []\n",
    "        for hospital_node in hospital_nodes:\n",
    "            length = nx.shortest_path_length(G, orig_node, hospital_node, weight='length')  # meters\n",
    "            speed_kmh = 30  #assuming avg urban speed\n",
    "            time_min = (length / 1000) / speed_kmh * 60\n",
    "            times.append(time_min)\n",
    "        return min(times) if times else None\n",
    "    except:\n",
    "        return None"
   ]
  },
  {
   "cell_type": "code",
   "execution_count": 115,
   "id": "11203702-561f-4a3f-a3be-c34931e1d472",
   "metadata": {},
   "outputs": [
    {
     "name": "stderr",
     "output_type": "stream",
     "text": [
      "100%|██████████████████████████████████████████████████████████████████████████████| 4790/4790 [04:05<00:00, 19.50it/s]\n"
     ]
    }
   ],
   "source": [
    "#calculate travel time\n",
    "tqdm.pandas()\n",
    "hex_grid['travel_time_min'] = hex_grid['center'].progress_apply(shortest_travel_time)"
   ]
  },
  {
   "cell_type": "code",
   "execution_count": 99,
   "id": "54d1c634-d36d-4bfe-98b8-6e10c5906a7a",
   "metadata": {},
   "outputs": [],
   "source": [
    "hex_grid.to_parquet(\"../data/processed/hex_with_travel_time.parquet\")"
   ]
  },
  {
   "cell_type": "code",
   "execution_count": null,
   "id": "996b1d62-1f37-465e-979b-e34b4bb62e18",
   "metadata": {},
   "outputs": [],
   "source": []
  },
  {
   "cell_type": "code",
   "execution_count": 83,
   "id": "a3d53464-6d9f-4a0d-b687-a94f90e93b77",
   "metadata": {},
   "outputs": [
    {
     "data": {
      "text/plain": [
       "networkx.classes.multidigraph.MultiDiGraph"
      ]
     },
     "execution_count": 83,
     "metadata": {},
     "output_type": "execute_result"
    }
   ],
   "source": [
    "type(G)"
   ]
  },
  {
   "cell_type": "code",
   "execution_count": 105,
   "id": "dae46216-8ba6-47ec-9977-4a156b2b2838",
   "metadata": {},
   "outputs": [
    {
     "name": "stdout",
     "output_type": "stream",
     "text": [
      "3\n"
     ]
    }
   ],
   "source": [
    "print(len(hospital_nodes))\n"
   ]
  },
  {
   "cell_type": "code",
   "execution_count": 107,
   "id": "f11885b0-cf86-4f98-a0d8-8313b9849ae7",
   "metadata": {},
   "outputs": [
    {
     "data": {
      "text/plain": [
       "count    282.0\n",
       "mean       0.0\n",
       "std        0.0\n",
       "min        0.0\n",
       "25%        0.0\n",
       "50%        0.0\n",
       "75%        0.0\n",
       "max        0.0\n",
       "Name: travel_time_min, dtype: float64"
      ]
     },
     "execution_count": 107,
     "metadata": {},
     "output_type": "execute_result"
    }
   ],
   "source": [
    "hex_grid['travel_time_min'].describe()\n"
   ]
  },
  {
   "cell_type": "code",
   "execution_count": null,
   "id": "ce6a026a-225f-4243-8d0f-a2bd8dc4ef60",
   "metadata": {},
   "outputs": [],
   "source": [
    "import osmnx as ox\n",
    "import geopandas as gpd\n",
    "import networkx as nx\n",
    "from shapely.geometry import Point\n",
    "from tqdm import tqdm"
   ]
  },
  {
   "cell_type": "code",
   "execution_count": null,
   "id": "dbac4f10-eef8-4756-891b-e3460e734ae6",
   "metadata": {},
   "outputs": [],
   "source": [
    "G = ox.graph_from_place(\"Helsinki, Finland\", network_type='drive')\n",
    "G = ox.project_graph(G, to_crs=\"EPSG:3857\") \n",
    "\n"
   ]
  },
  {
   "cell_type": "code",
   "execution_count": null,
   "id": "0868e339-bcfc-47ab-964d-67386966b2b9",
   "metadata": {},
   "outputs": [],
   "source": [
    "hex_grid = gpd.read_parquet(\"../data/processed/hex_with_population.parquet\")\n",
    "hex_grid = hex_grid.to_crs(epsg=3857) "
   ]
  },
  {
   "cell_type": "code",
   "execution_count": null,
   "id": "b183aa65-4db2-4dae-a34c-4cd7d4a1b82d",
   "metadata": {},
   "outputs": [],
   "source": [
    "hex_grid['center'] = hex_grid.geometry.centroid  "
   ]
  },
  {
   "cell_type": "code",
   "execution_count": null,
   "id": "e20a9af0-7f81-4285-9152-eb85abfb3583",
   "metadata": {},
   "outputs": [],
   "source": [
    "hospitals = ox.features_from_place(\"Helsinki, Finland\", tags={\"amenity\": \"hospital\"})\n",
    "hospitals = hospitals[~hospitals.geometry.is_empty]\n",
    "hospitals = hospitals.to_crs(epsg=3857) \n",
    "hospitals['geometry'] = hospitals.geometry.centroid  "
   ]
  },
  {
   "cell_type": "code",
   "execution_count": null,
   "id": "6a2f418e-691d-42bc-b6b6-c2bfc795ecbc",
   "metadata": {},
   "outputs": [],
   "source": [
    "hospital_nodes = hospitals.geometry.apply(lambda p: ox.distance.nearest_nodes(G, p.x, p.y)).tolist()"
   ]
  },
  {
   "cell_type": "code",
   "execution_count": null,
   "id": "a99ca5dd-df0c-404c-9038-d596d2ca1dd1",
   "metadata": {},
   "outputs": [],
   "source": [
    "def shortest_travel_time(point):\n",
    "    try:\n",
    "        orig_node = ox.distance.nearest_nodes(G, point.x, point.y)\n",
    "        times = []\n",
    "        for hospital_node in hospital_nodes:\n",
    "            length = nx.shortest_path_length(G, orig_node, hospital_node, weight='length')  # in meters\n",
    "            speed_kmh = 30  # Assume average city driving speed\n",
    "            time_min = (length / 1000) / speed_kmh * 60\n",
    "            times.append(time_min)\n",
    "        return min(times) if times else None\n",
    "    except Exception as e:\n",
    "        return None"
   ]
  },
  {
   "cell_type": "code",
   "execution_count": null,
   "id": "24df42c2-75d9-438f-b4be-441bf4ee2fd3",
   "metadata": {},
   "outputs": [
    {
     "name": "stderr",
     "output_type": "stream",
     "text": [
      "100%|██████████████████████████████████████████████████████████████████████████████| 4790/4790 [13:53<00:00,  5.75it/s]\n"
     ]
    }
   ],
   "source": [
    "tqdm.pandas()\n",
    "hex_grid['travel_time_min'] = hex_grid['center'].progress_apply(shortest_travel_time)"
   ]
  },
  {
   "cell_type": "code",
   "execution_count": null,
   "id": "55a1ed40-5a9c-48d8-ba92-cfe3dd80bd8f",
   "metadata": {},
   "outputs": [],
   "source": [
    "hex_grid.to_parquet(\"../data/processed/hex_with_travel_time.parquet\")"
   ]
  },
  {
   "cell_type": "code",
   "execution_count": 136,
   "id": "7a2a8542-a7c6-4bd1-b86c-0b4cc9fe29f4",
   "metadata": {},
   "outputs": [
    {
     "data": {
      "text/plain": [
       "count    4770.000000\n",
       "mean       13.893624\n",
       "std         7.073382\n",
       "min         0.000000\n",
       "25%         6.924899\n",
       "50%        17.510040\n",
       "75%        19.371198\n",
       "max        34.717531\n",
       "Name: travel_time_min, dtype: float64"
      ]
     },
     "execution_count": 136,
     "metadata": {},
     "output_type": "execute_result"
    }
   ],
   "source": [
    "hex_grid['travel_time_min'].describe()"
   ]
  },
  {
   "cell_type": "code",
   "execution_count": null,
   "id": "3bccd6e1-039a-4e1d-ae7a-055f03200afc",
   "metadata": {},
   "outputs": [],
   "source": []
  }
 ],
 "metadata": {
  "kernelspec": {
   "display_name": "Python [conda env:base] *",
   "language": "python",
   "name": "conda-base-py"
  },
  "language_info": {
   "codemirror_mode": {
    "name": "ipython",
    "version": 3
   },
   "file_extension": ".py",
   "mimetype": "text/x-python",
   "name": "python",
   "nbconvert_exporter": "python",
   "pygments_lexer": "ipython3",
   "version": "3.12.7"
  }
 },
 "nbformat": 4,
 "nbformat_minor": 5
}

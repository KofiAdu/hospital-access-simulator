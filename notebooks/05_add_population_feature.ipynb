{
 "cells": [
  {
   "cell_type": "code",
   "execution_count": 1,
   "id": "7e64ac56-d01e-4076-a620-8a82d9493992",
   "metadata": {},
   "outputs": [],
   "source": [
    "import geopandas as gpd\n",
    "import rasterio\n",
    "import rasterio.mask\n",
    "import numpy as np\n",
    "from shapely.geometry import mapping\n",
    "from tqdm import tqdm"
   ]
  },
  {
   "cell_type": "code",
   "execution_count": null,
   "id": "4ad148e4-54fa-4c18-b2b3-9384c3b77138",
   "metadata": {},
   "outputs": [],
   "source": [
    "#load hex grid with EPSG:3067\n",
    "hex_grid = gpd.read_parquet(\"../data/processed/hex_features.parquet\")\n",
    "\n",
    "hex_grid = hex_grid.to_crs(\"EPSG:4326\")"
   ]
  },
  {
   "cell_type": "code",
   "execution_count": null,
   "id": "8fbb5891-691a-4a5e-b787-a9b62e9073e5",
   "metadata": {},
   "outputs": [],
   "source": [
    "raster = \"../data/raw/fin_ppp_2020.tif\""
   ]
  },
  {
   "cell_type": "code",
   "execution_count": null,
   "id": "04a6f132-fa03-45ee-886e-ae1222dd478d",
   "metadata": {},
   "outputs": [
    {
     "name": "stderr",
     "output_type": "stream",
     "text": [
      "Processing Hexes: 100%|██████████████████████████████████████████████████████████| 4790/4790 [00:02<00:00, 2260.68it/s]\n"
     ]
    }
   ],
   "source": [
    "with rasterio.open(raster) as src:\n",
    "\n",
    "    if src.crs.to_string() != hex_grid.crs.to_string():\n",
    "        print(\"CRS mismatch, fix this before running.\")\n",
    "\n",
    "    pop_values = []\n",
    "\n",
    "    for geom in tqdm(hex_grid.geometry, desc=\"Processing Hexes\"):\n",
    "\n",
    "        geo = [mapping(geom)]\n",
    "\n",
    "        try:\n",
    "           out_image, out_transform = rasterio.mask.mask(src, geo, crop=True)\n",
    "        except ValueError:\n",
    "            pop_values.append(0)\n",
    "            continue\n",
    "\n",
    "        out_image = np.where(out_image == src.nodata, np.nan, out_image)\n",
    "\n",
    "        pop_sum = np.nansum(out_image)\n",
    "        pop_values.append(pop_sum)\n",
    "\n",
    "hex_grid[\"population\"] = pop_values\n",
    "\n",
    "hex_grid.to_parquet(\"../data/processed/hex_with_population.parquet\")"
   ]
  },
  {
   "cell_type": "code",
   "execution_count": 23,
   "id": "08d0e2c5-7383-4250-9fc4-e8c3ee7208fb",
   "metadata": {},
   "outputs": [
    {
     "name": "stdout",
     "output_type": "stream",
     "text": [
      "Raster CRS: EPSG:4326\n"
     ]
    }
   ],
   "source": [
    "\n",
    "raster_path = \"../data/raw/fin_ppp_2020.tif\"\n",
    "\n",
    "with rasterio.open(raster_path) as src:\n",
    "    print(\"Raster CRS:\", src.crs)\n"
   ]
  },
  {
   "cell_type": "code",
   "execution_count": 25,
   "id": "7f3e87db-1a70-49a7-841b-da59ced299b3",
   "metadata": {},
   "outputs": [
    {
     "data": {
      "text/plain": [
       "count    4790.000000\n",
       "mean      508.101990\n",
       "std       898.347107\n",
       "min         0.000000\n",
       "25%         0.000000\n",
       "50%         0.000000\n",
       "75%       608.559753\n",
       "max      3032.876465\n",
       "Name: population, dtype: float64"
      ]
     },
     "execution_count": 25,
     "metadata": {},
     "output_type": "execute_result"
    }
   ],
   "source": [
    "hex_grid[\"population\"].describe()"
   ]
  },
  {
   "cell_type": "code",
   "execution_count": null,
   "id": "af4f35f0-a54d-4255-a5f9-bf22d3019b59",
   "metadata": {},
   "outputs": [],
   "source": [
    "\n"
   ]
  }
 ],
 "metadata": {
  "kernelspec": {
   "display_name": "Python [conda env:base] *",
   "language": "python",
   "name": "conda-base-py"
  },
  "language_info": {
   "codemirror_mode": {
    "name": "ipython",
    "version": 3
   },
   "file_extension": ".py",
   "mimetype": "text/x-python",
   "name": "python",
   "nbconvert_exporter": "python",
   "pygments_lexer": "ipython3",
   "version": "3.12.7"
  }
 },
 "nbformat": 4,
 "nbformat_minor": 5
}

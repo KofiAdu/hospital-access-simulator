{
 "cells": [
  {
   "cell_type": "code",
   "execution_count": 2,
   "id": "6cec8bc0-7fd3-46cf-9562-a636c0599857",
   "metadata": {},
   "outputs": [],
   "source": [
    "import geopandas as gpd\n",
    "import osmnx as ox\n",
    "from shapely.geometry import Point"
   ]
  },
  {
   "cell_type": "code",
   "execution_count": 24,
   "id": "eebf445e-c5fb-4020-85ef-bedd17877076",
   "metadata": {},
   "outputs": [],
   "source": [
    "#get city\n",
    "city = ox.geocode_to_gdf(\"Helsinki, Finland\")\n",
    "\n",
    "#load data\n",
    "hex_grid = gpd.read_parquet(\"../data/processed/hex_grid.parquet\")"
   ]
  },
  {
   "cell_type": "code",
   "execution_count": 6,
   "id": "3c7482bc-3ae4-4a3c-a657-60942e3cf667",
   "metadata": {},
   "outputs": [],
   "source": [
    "#get road networks\n",
    "roads = ox.features_from_place(\"Helsinki, Finland\", tags={\"highway\": True}).to_crs(hex_grid.crs)\n",
    "\n",
    "#keep onlyn roads (linestring geometries)\n",
    "roads = roads[roads.geom_type.isin([\"LineString\", \"MultiLineString\"])]"
   ]
  },
  {
   "cell_type": "code",
   "execution_count": null,
   "id": "b1103b85-f5bb-4219-b40c-02d21e9d0d8b",
   "metadata": {},
   "outputs": [],
   "source": [
    "#reproject CRS\n",
    "crs_projected = \"EPSG:3067\"\n",
    "hex_grid_proj = hex_grid.to_crs(crs_projected)\n",
    "roads_proj = roads.to_crs(crs_projected)\n",
    "\n",
    "#clip roads to hexes and measure length\n",
    "hex_grid_proj[\"road_density\"] = hex_grid_proj.geometry.apply(\n",
    "    lambda hex: roads_proj.clip(hex).length.sum())"
   ]
  },
  {
   "cell_type": "code",
   "execution_count": null,
   "id": "98d4c2fc-3f05-4c70-bb27-b6fa410bf30a",
   "metadata": {},
   "outputs": [],
   "source": [
    "\n",
    "hospitals = ox.features_from_place(\n",
    "    \"Helsinki, Finland\",\n",
    "    tags={\"amenity\": \"hospital\"}\n",
    ")\n",
    "hospitals = hospitals[~hospitals.geometry.is_empty]\n",
    "hospitals_proj = hospitals.to_crs(\"EPSG:3067\")\n",
    "\n",
    "hex_grid_proj['centroid'] = hex_grid_proj.geometry.centroid\n",
    "\n",
    "def count_hospitals_near(point, hospitals_gdf, radius_m=1000):\n",
    "    buffer = point.buffer(radius_m)\n",
    "    return hospitals_gdf.geometry.intersects(buffer).sum()\n",
    "\n",
    "#apply funtion to each hex centroid\n",
    "hex_grid_proj['hospital_count'] = hex_grid_proj['centroid'].apply(lambda pt: count_hospitals_near(pt, hospitals_proj))"
   ]
  },
  {
   "cell_type": "code",
   "execution_count": null,
   "id": "14bf2177-3152-46f3-b630-6d3caf16108e",
   "metadata": {},
   "outputs": [],
   "source": [
    "\n",
    "city_proj = city.to_crs(\"EPSG:3067\")\n",
    "city_center = city_proj.geometry.centroid.iloc[0]\n",
    "\n",
    "hex_grid_proj['dist_to_center'] = hex_grid_proj['centroid'].distance(city_center)\n"
   ]
  },
  {
   "cell_type": "code",
   "execution_count": null,
   "id": "d005a77c-c820-41fc-a699-283a93b9c3f1",
   "metadata": {},
   "outputs": [],
   "source": [
    "hex_grid_proj.to_parquet(\"../data/processed/hex_features.parquet\")"
   ]
  },
  {
   "cell_type": "code",
   "execution_count": null,
   "id": "e3255456-e17f-4a41-88b0-aeb42f1d06ac",
   "metadata": {},
   "outputs": [],
   "source": []
  }
 ],
 "metadata": {
  "kernelspec": {
   "display_name": "Python [conda env:base] *",
   "language": "python",
   "name": "conda-base-py"
  },
  "language_info": {
   "codemirror_mode": {
    "name": "ipython",
    "version": 3
   },
   "file_extension": ".py",
   "mimetype": "text/x-python",
   "name": "python",
   "nbconvert_exporter": "python",
   "pygments_lexer": "ipython3",
   "version": "3.12.7"
  }
 },
 "nbformat": 4,
 "nbformat_minor": 5
}
